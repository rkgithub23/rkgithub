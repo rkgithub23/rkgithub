{
 "cells": [
  {
   "cell_type": "code",
   "execution_count": 2,
   "metadata": {},
   "outputs": [
    {
     "data": {
      "text/plain": [
       "'lvs-entbu-003:pdx_003_Group MirrorAllSnapshots'"
      ]
     },
     "execution_count": 2,
     "metadata": {},
     "output_type": "execute_result"
    }
   ],
   "source": [
    "a = \"pdx-entfs-003:Group lvs-entbu-003:pdx_003_Group MirrorAllSnapshots\"\n",
    "b=a.split(' ', 1)[1]\n",
    "b"
   ]
  },
  {
   "cell_type": "code",
   "execution_count": 3,
   "metadata": {},
   "outputs": [
    {
     "data": {
      "text/plain": [
       "'C:\\\\Users\\\\rvadluri'"
      ]
     },
     "execution_count": 3,
     "metadata": {},
     "output_type": "execute_result"
    }
   ],
   "source": [
    "pwd"
   ]
  },
  {
   "cell_type": "code",
   "execution_count": 19,
   "metadata": {},
   "outputs": [
    {
     "name": "stdout",
     "output_type": "stream",
     "text": [
      "snapmirror modify -destination-path  lvs-entbu-003:pdx_003_Group  -policy 30days4\n",
      "snapmirror modify -destination-path   lvs-entbu-003:pdx_003_Home   -policy 30days4\n",
      "snapmirror modify -destination-path  lvs-entbu-003:pdx_003_IT_SQLDBA  -policy 30days4\n",
      "snapmirror modify -destination-path  lvs-entbu-003:pdx_003_ebaycentralnexuspro  -policy 30days4\n",
      "snapmirror modify -destination-path   lvs-entbu-003:pdx_003_repo   -policy 30days4\n",
      "snapmirror modify -destination-path  lvs-entbu-003:sea_003_Group  -policy 30days4\n",
      "snapmirror modify -destination-path   lvs-entbu-003:sea_003_Home   -policy 30days4\n",
      "snapmirror modify -destination-path  lvs-entbu-003:sea_003_PS_CoE  -policy 30days4\n",
      "snapmirror modify -destination-path  lvs-entbu-003:sea_003_ebaycentralnexuspro  -policy 30days4\n",
      "snapmirror modify -destination-path  lvs-entbu-003:sea_003_nexuspro  -policy 30days4\n",
      "snapmirror modify -destination-path   lvs-entbu-003:sea_003_repo   -policy 30days4\n",
      "snapmirror modify -destination-path  lvs-entbu-003:sfa_006_Zvents  -policy 30days4\n",
      "snapmirror modify -destination-path  lvs-entbu-003:sfa_006_group  -policy 30days4\n",
      "snapmirror modify -destination-path   lvs-entbu-003:sfa_006_home   -policy 30days4\n",
      "snapmirror modify -destination-path  lvs-entbu-003:sfa_006_sfa_005_vol0  -policy 30days4\n",
      "snapmirror modify -destination-path  lvs-entbu-003:sfa_006_sfo_group  -policy 30days4\n",
      "snapmirror modify -destination-path  lvs-entbu-003:sfa_006_sfo_home  -policy 30days4\n",
      "snapmirror modify -destination-path  lvs-entbu-003:sfo_007_Group  -policy 30days4\n",
      "snapmirror modify -destination-path   lvs-entbu-003:sfo_007_Home   -policy 30days4\n",
      "snapmirror modify -destination-path  lvs-entbu-003:slc_3pp_APAC_OE  -policy 30days4\n",
      "snapmirror modify -destination-path  lvs-entbu-003:slc_3pp_APAC_Operational_Readiness  -policy 30days4\n",
      "snapmirror modify -destination-path  lvs-entbu-003:slc_3pp_ARISE  -policy 30days4\n",
      "snapmirror modify -destination-path  lvs-entbu-003:slc_3pp_AppSense  -policy 30days4\n",
      "snapmirror modify -destination-path  lvs-entbu-003:slc_3pp_CCPulse  -policy 30days4\n",
      "snapmirror modify -destination-path  lvs-entbu-003:slc_3pp_CS_logs  -policy 30days4\n",
      "snapmirror modify -destination-path     lvs-entbu-003:slc_3pp_IT     -policy 30days4\n",
      "snapmirror modify -destination-path  lvs-entbu-003:slc_3pp_KijijiCSR  -policy 30days4\n",
      "snapmirror modify -destination-path  lvs-entbu-003:slc_3pp_PPOgdenCVG  -policy 30days4\n",
      "snapmirror modify -destination-path  lvs-entbu-003:slc_3pp_RoamingProfile  -policy 30days4\n",
      "snapmirror modify -destination-path    lvs-entbu-003:slc_3pp_ame    -policy 30days4\n",
      "snapmirror modify -destination-path  lvs-entbu-003:slc_3pp_centerbridgefiles  -policy 30days4\n",
      "snapmirror modify -destination-path  lvs-entbu-003:slc_3pp_cognizantpp  -policy 30days4\n",
      "snapmirror modify -destination-path  lvs-entbu-003:slc_3pp_convergys  -policy 30days4\n",
      "snapmirror modify -destination-path  lvs-entbu-003:slc_3pp_genpact  -policy 30days4\n",
      "snapmirror modify -destination-path   lvs-entbu-003:slc_3pp_home   -policy 30days4\n",
      "snapmirror modify -destination-path  lvs-entbu-003:slc_3pp_qaidc  -policy 30days4\n",
      "snapmirror modify -destination-path  lvs-entbu-003:slc_3pp_sea_manila_team  -policy 30days4\n",
      "snapmirror modify -destination-path  lvs-entbu-003:slc_3pp_smfvol1  -policy 30days4\n",
      "snapmirror modify -destination-path  lvs-entbu-003:slc_3pp_smfvol2  -policy 30days4\n",
      "snapmirror modify -destination-path  lvs-entbu-003:slc_3pp_smfvol3  -policy 30days4\n",
      "snapmirror modify -destination-path  lvs-entbu-003:slc_3pp_stubhub  -policy 30days4\n",
      "snapmirror modify -destination-path  lvs-entbu-003:slc_3pp_vendor_directories  -policy 30days4\n",
      "snapmirror modify -destination-path   lvs-entbu-003:slc_3pp_x3PP   -policy 30days4\n",
      "snapmirror modify -destination-path  lvs-entbu-003:sld_003_sld_vol0  -policy 30days4\n",
      "snapmirror modify -destination-path    lvs-entbu-003:sle_003_IVR    -policy 30days4\n",
      "snapmirror modify -destination-path  lvs-entbu-003:sle_003_TELECOM_BACKUPS  -policy 30days4\n",
      "snapmirror modify -destination-path  lvs-entbu-003:sle_003_globalcomp  -policy 30days4\n",
      "snapmirror modify -destination-path  lvs-entbu-003:sle_003_group  -policy 30days4\n",
      "snapmirror modify -destination-path   lvs-entbu-003:sle_003_home   -policy 30days4\n",
      "snapmirror modify -destination-path  lvs-entbu-003:sle_003_profile  -policy 30days4\n",
      "snapmirror modify -destination-path  lvs-entbu-003:sle_003_witlogs  -policy 30days4\n",
      "snapmirror modify -destination-path  lvs-entbu-003:tlv_007_Group  -policy 30days4\n",
      "snapmirror modify -destination-path   lvs-entbu-003:tlv_007_Home   -policy 30days4\n",
      "snapmirror modify -destination-path  lvs-entbu-003:tlv_007_cifsauditing  -policy 30days4\n",
      "snapmirror modify -destination-path  lvs-entbu-003:tlv_007_ebaycentralnexuspro  -policy 30days4\n",
      "snapmirror modify -destination-path   lvs-entbu-003:tlv_007_vol1   -policy 30days4\n",
      "snapmirror modify -destination-path   lvs-entbu-003:tlv_007_vol2   -policy 30days4\n",
      "snapmirror modify -destination-path  lvs-entbu-003:tlv_007_vol3_vmware  -policy 30days4\n"
     ]
    },
    {
     "ename": "IndexError",
     "evalue": "list index out of range",
     "output_type": "error",
     "traceback": [
      "\u001b[1;31m---------------------------------------------------------------------------\u001b[0m",
      "\u001b[1;31mIndexError\u001b[0m                                Traceback (most recent call last)",
      "\u001b[1;32m<ipython-input-19-6f0aa5d991de>\u001b[0m in \u001b[0;36m<module>\u001b[1;34m\u001b[0m\n\u001b[0;32m      1\u001b[0m \u001b[1;32mwith\u001b[0m \u001b[0mopen\u001b[0m\u001b[1;33m(\u001b[0m\u001b[1;34m\"sm.txt\"\u001b[0m\u001b[1;33m)\u001b[0m \u001b[1;32mas\u001b[0m \u001b[0minfile\u001b[0m\u001b[1;33m:\u001b[0m\u001b[1;33m\u001b[0m\u001b[1;33m\u001b[0m\u001b[0m\n\u001b[0;32m      2\u001b[0m     \u001b[1;32mfor\u001b[0m \u001b[0mline\u001b[0m \u001b[1;32min\u001b[0m \u001b[0minfile\u001b[0m\u001b[1;33m:\u001b[0m\u001b[1;33m\u001b[0m\u001b[1;33m\u001b[0m\u001b[0m\n\u001b[1;32m----> 3\u001b[1;33m         \u001b[0mc\u001b[0m\u001b[1;33m=\u001b[0m \u001b[0mline\u001b[0m\u001b[1;33m.\u001b[0m\u001b[0msplit\u001b[0m\u001b[1;33m(\u001b[0m\u001b[1;34m' '\u001b[0m\u001b[1;33m,\u001b[0m \u001b[1;36m1\u001b[0m\u001b[1;33m)\u001b[0m\u001b[1;33m[\u001b[0m\u001b[1;36m1\u001b[0m\u001b[1;33m]\u001b[0m\u001b[1;33m\u001b[0m\u001b[1;33m\u001b[0m\u001b[0m\n\u001b[0m\u001b[0;32m      4\u001b[0m         \u001b[0md\u001b[0m\u001b[1;33m=\u001b[0m \u001b[0mc\u001b[0m\u001b[1;33m.\u001b[0m\u001b[0mrsplit\u001b[0m\u001b[1;33m(\u001b[0m\u001b[1;34m' '\u001b[0m\u001b[1;33m,\u001b[0m \u001b[1;36m1\u001b[0m\u001b[1;33m)\u001b[0m\u001b[1;33m[\u001b[0m\u001b[1;36m0\u001b[0m\u001b[1;33m]\u001b[0m\u001b[1;33m\u001b[0m\u001b[1;33m\u001b[0m\u001b[0m\n\u001b[0;32m      5\u001b[0m         \u001b[0mprint\u001b[0m\u001b[1;33m(\u001b[0m\u001b[1;34m\"snapmirror modify -destination-path \"\u001b[0m\u001b[1;33m,\u001b[0m \u001b[0md\u001b[0m \u001b[1;33m,\u001b[0m \u001b[1;34m\" -policy 30days4\"\u001b[0m\u001b[1;33m)\u001b[0m\u001b[1;33m\u001b[0m\u001b[1;33m\u001b[0m\u001b[0m\n",
      "\u001b[1;31mIndexError\u001b[0m: list index out of range"
     ]
    }
   ],
   "source": [
    "with open(\"sm.txt\") as infile:\n",
    "    for line in infile:\n",
    "        c= line.split(' ', 1)[1]\n",
    "        d= c.rsplit(' ', 1)[0]\n",
    "        print(\"snapmirror modify -destination-path \", d , \" -policy 30days4\")\n",
    "        \n",
    "        \n",
    "        "
   ]
  },
  {
   "cell_type": "code",
   "execution_count": 20,
   "metadata": {},
   "outputs": [
    {
     "data": {
      "text/plain": [
       "'C:\\\\Users\\\\rvadluri'"
      ]
     },
     "execution_count": 20,
     "metadata": {},
     "output_type": "execute_result"
    }
   ],
   "source": [
    "pwd\n"
   ]
  },
  {
   "cell_type": "code",
   "execution_count": 21,
   "metadata": {},
   "outputs": [
    {
     "name": "stdout",
     "output_type": "stream",
     "text": [
      "C:\\Users\\rvadluri\\rkgithub\n"
     ]
    }
   ],
   "source": [
    "cd rkgithub/\n"
   ]
  },
  {
   "cell_type": "code",
   "execution_count": 22,
   "metadata": {},
   "outputs": [
    {
     "name": "stdout",
     "output_type": "stream",
     "text": [
      " Volume in drive C is OSDisk\n",
      " Volume Serial Number is 10B6-F00E\n",
      "\n",
      " Directory of C:\\Users\\rvadluri\\rkgithub\n",
      "\n",
      "02/18/2020  11:41 PM    <DIR>          .\n",
      "02/18/2020  11:41 PM    <DIR>          ..\n",
      "02/08/2020  01:00 PM            44,451 delayedflights.ipynb\n",
      "02/18/2020  11:44 PM               132 github_commands.txt\n",
      "02/18/2020  11:38 PM                10 README.md\n",
      "02/08/2020  01:00 PM            53,158 real state.ipynb\n",
      "02/11/2020  01:22 AM                 8 test\n",
      "01/22/2020  09:01 PM             4,099 Untitled1.ipynb\n",
      "01/25/2020  09:46 PM             3,671 Untitled2.ipynb\n",
      "02/06/2020  02:54 PM             7,160 Untitled3.ipynb\n",
      "02/06/2020  10:25 PM            13,337 Untitled4.ipynb\n",
      "02/07/2020  12:17 AM            19,502 Untitled5.ipynb\n",
      "02/07/2020  04:27 AM            53,158 Untitled6.ipynb\n",
      "02/09/2020  12:58 AM            38,819 Untitled7.ipynb\n",
      "02/08/2020  03:01 PM            49,275 Untitled8.ipynb\n",
      "              13 File(s)        286,780 bytes\n",
      "               2 Dir(s)  344,341,753,856 bytes free\n"
     ]
    }
   ],
   "source": [
    "ls \n"
   ]
  },
  {
   "cell_type": "code",
   "execution_count": null,
   "metadata": {},
   "outputs": [],
   "source": []
  }
 ],
 "metadata": {
  "kernelspec": {
   "display_name": "Python 3",
   "language": "python",
   "name": "python3"
  },
  "language_info": {
   "codemirror_mode": {
    "name": "ipython",
    "version": 3
   },
   "file_extension": ".py",
   "mimetype": "text/x-python",
   "name": "python",
   "nbconvert_exporter": "python",
   "pygments_lexer": "ipython3",
   "version": "3.7.4"
  }
 },
 "nbformat": 4,
 "nbformat_minor": 2
}
