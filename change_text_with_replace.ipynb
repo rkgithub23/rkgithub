{
 "cells": [
  {
   "cell_type": "code",
   "execution_count": 24,
   "metadata": {},
   "outputs": [
    {
     "name": "stdout",
     "output_type": "stream",
     "text": [
      "snapmirror delete -destination-path    slc-sapnp-001:BIT_frs\n",
      "snapmirror delete -destination-path    slc-sapnp-001:BIT_oracle\n",
      "snapmirror delete -destination-path    slc-sapnp-001:BIT_origlogA\n",
      "snapmirror delete -destination-path    slc-sapnp-001:BIT_origlogB\n",
      "snapmirror delete -destination-path    slc-sapnp-001:BIT_sap\n",
      "snapmirror delete -destination-path    slc-sapnp-001:BIT_sap1\n",
      "snapmirror delete -destination-path    slc-sapnp-001:BIT_sap3\n",
      "snapmirror delete -destination-path    slc-sapnp-001:BIT_sap5\n",
      "snapmirror delete -destination-path    slc-sapnp-001:BIT_sapdata1\n",
      "snapmirror delete -destination-path    slc-sapnp-001:BIT_sapdata3\n",
      "snapmirror delete -destination-path    slc-sapnp-001:CDQ_data3\n",
      "snapmirror delete -destination-path    slc-sapnp-001:ECD_origlogA\n",
      "snapmirror delete -destination-path    slc-sapnp-001:ECD_origlogB\n",
      "snapmirror delete -destination-path    slc-sapnp-001:ECD_sapdata1\n",
      "snapmirror delete -destination-path    slc-sapnp-001:ECD_sapdata3\n",
      "snapmirror delete -destination-path    slc-sapnp-001:ECD_sapdata5\n",
      "snapmirror delete -destination-path    slc-sapnp-001:ECT_origlogA\n",
      "snapmirror delete -destination-path    slc-sapnp-001:ECT_origlogB\n",
      "snapmirror delete -destination-path    slc-sapnp-001:ED2_oracle\n",
      "snapmirror delete -destination-path    slc-sapnp-001:ED2_origlogA\n",
      "snapmirror delete -destination-path    slc-sapnp-001:ED2_origlogB\n",
      "snapmirror delete -destination-path    slc-sapnp-001:ED2_sapdata1\n",
      "snapmirror delete -destination-path    slc-sapnp-001:ED2_sapdata3\n",
      "snapmirror delete -destination-path    slc-sapnp-001:ED2_sapmnt\n",
      "snapmirror delete -destination-path    slc-sapnp-001:ED2_userdata\n",
      "snapmirror delete -destination-path    slc-sapnp-001:GRD_origlogA\n",
      "snapmirror delete -destination-path    slc-sapnp-001:GRD_origlogB\n",
      "snapmirror delete -destination-path    slc-sapnp-001:GRD_sapdata1\n",
      "snapmirror delete -destination-path    slc-sapnp-001:GRD_sapdata3\n",
      "snapmirror delete -destination-path    slc-sapnp-001:GRT_origlogA\n",
      "snapmirror delete -destination-path    slc-sapnp-001:GRT_origlogB\n",
      "snapmirror delete -destination-path    slc-sapnp-001:GRT_sapdata1\n",
      "snapmirror delete -destination-path    slc-sapnp-001:GRT_sapdata3\n",
      "snapmirror delete -destination-path    slc-sapnp-001:HRWS_oraarch\n",
      "snapmirror delete -destination-path    slc-sapnp-001:HRWS_oracle\n",
      "snapmirror delete -destination-path    slc-sapnp-001:MDQ_origlogA\n",
      "snapmirror delete -destination-path    slc-sapnp-001:MDQ_origlogB\n",
      "snapmirror delete -destination-path    slc-sapnp-001:MDQ_sapdata1\n",
      "snapmirror delete -destination-path    slc-sapnp-001:MDQ_sapdata3\n",
      "snapmirror delete -destination-path    slc-sapnp-001:BIT_mirrlogA\n",
      "snapmirror delete -destination-path    slc-sapnp-001:BIT_mirrlogB\n",
      "snapmirror delete -destination-path    slc-sapnp-001:BIT_oraarch\n",
      "snapmirror delete -destination-path    slc-sapnp-001:BIT_sap2\n",
      "snapmirror delete -destination-path    slc-sapnp-001:BIT_sap4\n",
      "snapmirror delete -destination-path    slc-sapnp-001:BIT_sap6\n",
      "snapmirror delete -destination-path    slc-sapnp-001:BIT_sapdata2\n",
      "snapmirror delete -destination-path    slc-sapnp-001:BIT_sapdata4\n",
      "snapmirror delete -destination-path    slc-sapnp-001:ECD_mirrlogA\n",
      "snapmirror delete -destination-path    slc-sapnp-001:ECD_mirrlogB\n",
      "snapmirror delete -destination-path    slc-sapnp-001:ECD_sap\n",
      "snapmirror delete -destination-path    slc-sapnp-001:ECD_sapdata2\n",
      "snapmirror delete -destination-path    slc-sapnp-001:ECD_sapdata4\n",
      "snapmirror delete -destination-path    slc-sapnp-001:ECD_sapdata6\n",
      "snapmirror delete -destination-path    slc-sapnp-001:ECD_sapdata8\n",
      "snapmirror delete -destination-path    slc-sapnp-001:ED2_mirrlogA\n",
      "snapmirror delete -destination-path    slc-sapnp-001:ED2_mirrlogB\n",
      "snapmirror delete -destination-path    slc-sapnp-001:ED2_oraarch\n",
      "snapmirror delete -destination-path    slc-sapnp-001:ED2_sap\n",
      "snapmirror delete -destination-path    slc-sapnp-001:ED2_sapdata2\n",
      "snapmirror delete -destination-path    slc-sapnp-001:ED2_sapdata4\n",
      "snapmirror delete -destination-path    slc-sapnp-001:GRD_mirrlogA\n",
      "snapmirror delete -destination-path    slc-sapnp-001:GRD_mirrlogB\n",
      "snapmirror delete -destination-path    slc-sapnp-001:GRD_sapdata2\n",
      "snapmirror delete -destination-path    slc-sapnp-001:GRD_sapdata4\n",
      "snapmirror delete -destination-path    slc-sapnp-001:MDD_app\n",
      "snapmirror delete -destination-path    slc-sapnp-001:MDD_mirrlogA\n",
      "snapmirror delete -destination-path    slc-sapnp-001:MDD_mirrlogB\n",
      "snapmirror delete -destination-path    slc-sapnp-001:MDD_sapdata2\n",
      "snapmirror delete -destination-path    slc-sapnp-001:MDD_sapdata4\n"
     ]
    }
   ],
   "source": [
    "with open(\"smbroken.txt\") as infile:\n",
    "    for line in infile:\n",
    "        e= line[ 25: ]\n",
    "        c= line.split(' ', 1)[1]\n",
    "        d= c.rsplit(' ', 5)[0]\n",
    "        f= d.replace('TDP', ' ')\n",
    "        print(\"snapmirror delete -destination-path \", f,)\n",
    "        "
   ]
  },
  {
   "cell_type": "code",
   "execution_count": null,
   "metadata": {},
   "outputs": [],
   "source": []
  }
 ],
 "metadata": {
  "kernelspec": {
   "display_name": "Python 3",
   "language": "python",
   "name": "python3"
  },
  "language_info": {
   "codemirror_mode": {
    "name": "ipython",
    "version": 3
   },
   "file_extension": ".py",
   "mimetype": "text/x-python",
   "name": "python",
   "nbconvert_exporter": "python",
   "pygments_lexer": "ipython3",
   "version": "3.7.4"
  }
 },
 "nbformat": 4,
 "nbformat_minor": 2
}
